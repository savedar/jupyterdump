{
 "cells": [
  {
   "cell_type": "code",
   "execution_count": 69,
   "id": "5ba3866e-ed03-4973-b2fd-e5b0914128f6",
   "metadata": {
    "tags": []
   },
   "outputs": [
    {
     "name": "stdout",
     "output_type": "stream",
     "text": [
      "Penjumlahan\n"
     ]
    },
    {
     "name": "stdin",
     "output_type": "stream",
     "text": [
      "angka pertama 5.5\n",
      "angka kedua 32\n"
     ]
    },
    {
     "name": "stdout",
     "output_type": "stream",
     "text": [
      "37.5\n"
     ]
    }
   ],
   "source": [
    "print(\"Penjumlahan\")\n",
    "num1 = float(input(\"angka pertama\"))\n",
    "num2 = float(input(\"angka kedua\"))\n",
    "print(num1+num2)"
   ]
  },
  {
   "cell_type": "code",
   "execution_count": null,
   "id": "e015fd86-e156-47dd-88b0-a885cf4d984e",
   "metadata": {},
   "outputs": [],
   "source": []
  }
 ],
 "metadata": {
  "kernelspec": {
   "display_name": "Python 3 (ipykernel)",
   "language": "python",
   "name": "python3"
  },
  "language_info": {
   "codemirror_mode": {
    "name": "ipython",
    "version": 3
   },
   "file_extension": ".py",
   "mimetype": "text/x-python",
   "name": "python",
   "nbconvert_exporter": "python",
   "pygments_lexer": "ipython3",
   "version": "3.9.12"
  }
 },
 "nbformat": 4,
 "nbformat_minor": 5
}
