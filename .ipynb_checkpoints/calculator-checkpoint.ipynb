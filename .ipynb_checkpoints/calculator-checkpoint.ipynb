{
 "cells": [
  {
   "cell_type": "raw",
   "id": "4578ca22-a9c3-469f-a32e-d2aecda1caab",
   "metadata": {
    "tags": []
   },
   "source": [
    "print(\"Penjumlahan\")\n",
    "num1 = float(input(\"angka pertama\"))\n",
    "num2 = float(input(\"angka kedua\"))\n",
    "print(num1+num2)"
   ]
  }
 ],
 "metadata": {
  "kernelspec": {
   "display_name": "Python 3 (ipykernel)",
   "language": "python",
   "name": "python3"
  },
  "language_info": {
   "codemirror_mode": {
    "name": "ipython",
    "version": 3
   },
   "file_extension": ".py",
   "mimetype": "text/x-python",
   "name": "python",
   "nbconvert_exporter": "python",
   "pygments_lexer": "ipython3",
   "version": "3.9.12"
  }
 },
 "nbformat": 4,
 "nbformat_minor": 5
}
